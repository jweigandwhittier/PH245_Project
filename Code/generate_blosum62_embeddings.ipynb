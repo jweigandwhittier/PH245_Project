{
 "cells": [
  {
   "cell_type": "code",
   "execution_count": null,
   "metadata": {},
   "outputs": [],
   "source": [
    "import pandas as pd\n",
    "\n",
    "# Manually define the BLOSUM62 matrix\n",
    "blosum62 = {\n",
    "    ('A', 'A'): 4, ('R', 'R'): 5, ('N', 'N'): 6, ('D', 'D'): 6, ('C', 'C'): 9,\n",
    "    ('Q', 'Q'): 5, ('E', 'E'): 5, ('G', 'G'): 6, ('H', 'H'): 8, ('I', 'I'): 4,\n",
    "    ('L', 'L'): 4, ('K', 'K'): 5, ('M', 'M'): 5, ('F', 'F'): 6, ('P', 'P'): 7,\n",
    "    ('S', 'S'): 4, ('T', 'T'): 5, ('W', 'W'): 11, ('Y', 'Y'): 7, ('V', 'V'): 4\n",
    "}\n",
    "\n",
    "# Define a function to calculate BLOSUM62 embeddings for a sequence\n",
    "def calculate_blosum62_embedding(sequence):\n",
    "    embedding = []\n",
    "    for aa in sequence:\n",
    "        # For each amino acid, use its substitution score with itself as the embedding value\n",
    "        # If amino acid doesn't exist in the BLOSUM62 matrix, assign a default value\n",
    "        embedding.append(blosum62.get((aa, aa), 0))  # Default score = 0 if the AA is not in BLOSUM62\n",
    "    return embedding\n",
    "\n",
    "# Assuming `embeddings` DataFrame has a column 'sequence' with protein sequences\n",
    "# Add a new column for the BLOSUM62 embeddings\n",
    "embeddings['blosum62_embedding'] = embeddings['sequence'].apply(calculate_blosum62_embedding)\n",
    "\n",
    "# Save the updated DataFrame to a new file if needed\n",
    "embeddings.to_pickle(\"updated_embeddings_with_blosum62.pkl\")\n",
    "\n",
    "# Display the updated DataFrame\n",
    "embeddings.head()\n"
   ]
  }
 ],
 "metadata": {
  "language_info": {
   "name": "python"
  }
 },
 "nbformat": 4,
 "nbformat_minor": 2
}
