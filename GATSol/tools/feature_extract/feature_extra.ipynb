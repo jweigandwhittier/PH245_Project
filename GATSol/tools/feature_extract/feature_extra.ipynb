{
 "cells": [
  {
   "cell_type": "code",
   "execution_count": 1,
   "metadata": {},
   "outputs": [],
   "source": [
    "import os\n",
    "import pandas as pd\n",
    "import iFeatureOmegaCLI\n",
    "import torch\n",
    "import numpy as np\n",
    "from torch_geometric.data import Data\n",
    "import warnings\n",
    "warnings.filterwarnings(\"ignore\")\n",
    "import pickle\n",
    "from tqdm import tqdm\n",
    "import multiprocessing\n",
    "import logging\n",
    "from torch_geometric.utils import add_self_loops\n",
    "import contextlib\n",
    "import io\n",
    "import esm\n",
    "\n",
    "# Load ESM-1b model\n",
    "model, alphabet = esm.pretrained.esm1b_t33_650M_UR50S()\n",
    "batch_converter = alphabet.get_batch_converter()"
   ]
  },
  {
   "cell_type": "code",
   "execution_count": 2,
   "metadata": {},
   "outputs": [],
   "source": [
    "cm_path = os.path.join(\"/home/bli/homology/colabfold_cm_371/\"+\"AF-P24482-F1-model_v4.cm\")\n",
    "fasta_path = os.path.join(\"/home/bli/homology/colabfold_fasta_371/\"+\"AF-P24482-F1-model_v4.fasta\")\n",
    "pkl_path = os.path.join(\"/home/bli/homology/colabfold_pkl_371/\"+\"AF-P24482-F1-model_v4-model_v4.pkl\")\n",
    "\n",
    "#esm feature\n",
    "batch_labels, batch_strs, batch_tokens = batch_converter([(\"AF-P24482-F1\", \"MFGSGNVLPVKIQPPLLRPLAYRVLSRKYGLSIKSDGLSALAEFVGTNIGANWRQGPATIKFLEQFAAVWKQQERGLFIDQSGVKEVIQEMKEREKVEWSHEHPIQHEENILGRTDDDENNSDDEMPIAADSSLQNVSLSSPMRQPTERDEYKQPFKPESSKALDWRDYFKVINASQQQRFSYNPHKMQFIFVPNKKQNGLGGIAGFLPDIEDKVQMFLTRYYLTNDRVMRNENFQNSDMFNPLSSMVSLQNELSNTNRQQQSSSMSITPIKNLLGRDAQNFLLLGLLNKNFKGNWSLEDPSGSVEIDISQTIPTQGHYYVPGCMVLVEGIYYSVGNKFHVTSMTLPPGERREITLETIGNLDLLGIHGISNNNFIARLDKDLKIRLHLLEKELTDHKFVILGANLFLDDLKIMTALSKILQKLNDDPPTLLIWQGSFTSVPVFASMSSRNISSSTQFKNNFDALATLLSRFDNLTENTTMIFIPGPNDLWGSMVSLGASGTLPQDPIPSAFTKKINKVCKNVVWSSNPTRIAYLSQEIVIFRDDLSGRFKRHRLEFPFNESEDVYTENDNMMSKDTDIVPIDELVKEPDQLPQKVQETRKLVKTILDQGHLSPFLDSLRPISWDLDHTLTLCPIPSTMVLCDTTSAQFDLTYNGCKVINPGSFIHNRRARYMEYVPSSKKTIQEEIYI\")])\n",
    "with torch.no_grad():\n",
    "  results = model(batch_tokens, repr_layers=[33], return_contacts=True)"
   ]
  },
  {
   "cell_type": "code",
   "execution_count": 3,
   "metadata": {},
   "outputs": [
    {
     "data": {
      "text/plain": [
       "'/home/bli/homology/colabfold_fasta_371/AF-P24482-F1-model_v4.fasta'"
      ]
     },
     "execution_count": 3,
     "metadata": {},
     "output_type": "execute_result"
    }
   ],
   "source": [
    "fasta_path"
   ]
  },
  {
   "cell_type": "code",
   "execution_count": 4,
   "metadata": {},
   "outputs": [],
   "source": [
    "protein = iFeatureOmegaCLI.iProtein(fasta_path)\n",
    "\n",
    "# 创建一个空的文件对象\n",
    "null_file = io.StringIO()\n",
    "\n",
    "# 使用 redirect_stdout 上下文管理器将标准输出重定向到空文件\n",
    "with contextlib.redirect_stdout(null_file):\n",
    "  protein.import_parameters('/home/bli/homology/feature_extract/Protein_parameters_setting.json')\n",
    "\n",
    "protein.get_descriptor(\"BLOSUM62\")\n",
    "\n",
    "node_feature = torch.from_numpy((protein.encodings.values.reshape(-1,20))).float()\n"
   ]
  },
  {
   "cell_type": "code",
   "execution_count": 5,
   "metadata": {},
   "outputs": [],
   "source": [
    "node_feature1 = results['representations'][33][0, 1:-1].reshape(-1,1280)"
   ]
  },
  {
   "cell_type": "code",
   "execution_count": 6,
   "metadata": {},
   "outputs": [
    {
     "data": {
      "text/plain": [
       "tensor([[ 0.0113,  0.0082,  0.1367,  ..., -0.1121, -0.0857, -0.2022],\n",
       "        [ 0.1863, -0.0565, -0.0434,  ...,  0.0451, -0.2975,  0.1975],\n",
       "        [ 0.3125,  0.0436, -0.0959,  ...,  0.0688, -0.1689,  0.0623],\n",
       "        ...,\n",
       "        [-0.1508,  0.3432, -0.1703,  ..., -0.0777, -0.3324,  0.0533],\n",
       "        [ 0.0189,  0.3239, -0.3733,  ..., -0.0380, -0.3489, -0.4201],\n",
       "        [-0.0009,  0.2701, -0.3858,  ..., -0.1513, -0.5010, -0.1553]])"
      ]
     },
     "execution_count": 6,
     "metadata": {},
     "output_type": "execute_result"
    }
   ],
   "source": [
    "node_feature1"
   ]
  },
  {
   "cell_type": "code",
   "execution_count": 7,
   "metadata": {},
   "outputs": [],
   "source": [
    "node_features = torch.cat((node_feature,node_feature1),1)"
   ]
  },
  {
   "cell_type": "code",
   "execution_count": 8,
   "metadata": {},
   "outputs": [
    {
     "data": {
      "text/plain": [
       "torch.Size([689, 1300])"
      ]
     },
     "execution_count": 8,
     "metadata": {},
     "output_type": "execute_result"
    }
   ],
   "source": [
    "node_features.shape"
   ]
  },
  {
   "cell_type": "code",
   "execution_count": 9,
   "metadata": {},
   "outputs": [],
   "source": [
    "with open(cm_path, 'r') as f:\n",
    "  content = f.read()\n",
    "  # 将内容解析为二维数组\n",
    "  data = np.array([list(map(float, line.split(','))) for line in content.split('\\n') if line])\n",
    "  # 将数组转换为 PyTorch Tensor\n",
    "  edges = torch.from_numpy(data).type(torch.LongTensor)\n",
    "\n",
    "label = torch.tensor(0.05).reshape(1,)\n",
    "data = Data(x=node_features, edge_index=edges.t().contiguous() - 1, y=label)\n",
    "data.edge_index, _ = add_self_loops(data.edge_index, num_nodes=node_features.shape[0])\n",
    "with open(pkl_path, 'wb') as fpkl:\n",
    "  pickle.dump(data, fpkl)\n",
    "\n"
   ]
  },
  {
   "cell_type": "code",
   "execution_count": null,
   "metadata": {},
   "outputs": [],
   "source": []
  }
 ],
 "metadata": {
  "kernelspec": {
   "display_name": "pyg",
   "language": "python",
   "name": "python3"
  },
  "language_info": {
   "codemirror_mode": {
    "name": "ipython",
    "version": 3
   },
   "file_extension": ".py",
   "mimetype": "text/x-python",
   "name": "python",
   "nbconvert_exporter": "python",
   "pygments_lexer": "ipython3",
   "version": "3.9.16"
  },
  "orig_nbformat": 4
 },
 "nbformat": 4,
 "nbformat_minor": 2
}
